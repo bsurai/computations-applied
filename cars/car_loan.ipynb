{
 "cells": [
  {
   "cell_type": "code",
   "execution_count": 21,
   "metadata": {},
   "outputs": [],
   "source": [
    "import numpy as np\n",
    "import pandas as pd\n",
    "import matplotlib.pyplot as plt\n",
    "\n",
    "pd.set_option('display.max_columns', None)  # Виводити всі колонки\n",
    "pd.set_option('display.width', 1000)        # Збільшити ширину\n",
    "pd.set_option('display.max_colwidth', 150)\n",
    "\n",
    "p0 = 1000000\n",
    "inlation = 0.1\n",
    "\n",
    "loan = np.array([0.0001, 0.04, 0.06, 0.08])\n",
    "years = np.array([1, 2, 3, 4])\n",
    "\n",
    "annual_rate = loan - inlation"
   ]
  },
  {
   "cell_type": "code",
   "execution_count": 22,
   "metadata": {},
   "outputs": [
    {
     "name": "stdout",
     "output_type": "stream",
     "text": [
      "Років: 1, Ставка: -0.0999%, Щомісячний платіж: 78893.06, майбутня вартість: 946716.7089681784, зміна вартості: 0.9467167089681784%\n",
      "Років: 2, Ставка: -0.060000000000000005%, Щомісячний платіж: 39112.53, майбутня вартість: 938700.6314067141, зміна вартості: 0.9387006314067141%\n",
      "Років: 3, Ставка: -0.04000000000000001%, Щомісячний платіж: 26098.17, майбутня вартість: 939534.1209704415, зміна вартості: 0.9395341209704415%\n",
      "Років: 4, Ставка: -0.020000000000000004%, Щомісячний платіж: 19993.75, майбутня вартість: 959700.1562415952, зміна вартості: 0.9597001562415952%\n"
     ]
    }
   ],
   "source": [
    "r = annual_rate / 12  # Місячні процентні ставки\n",
    "n = years * 12  # Загальна кількість місяців\n",
    "\n",
    "# Формула ануїтетного платежу\n",
    "A = p0 * (r / (1 - (1 + r) ** -n))\n",
    "\n",
    "# Виведемо результат\n",
    "for y, rate, payment in zip(years, annual_rate, A):\n",
    "    print(f\"Років: {y}, Ставка: {rate}%, Щомісячний платіж: {payment:.2f}, майбутня вартість: {(payment*12*y)}, зміна вартості: {(payment*12*y/p0)}%\")"
   ]
  },
  {
   "cell_type": "code",
   "execution_count": 23,
   "metadata": {},
   "outputs": [
    {
     "name": "stdout",
     "output_type": "stream",
     "text": [
      "[900100.   883600.   884736.   922368.16]\n",
      "[81666.66666667 40016.66666667 26144.22222222 19216.00333333]\n"
     ]
    }
   ],
   "source": [
    "def calc_over_pay(p0, rate, years):\n",
    "    return (p0*(1 + rate)**years)\n",
    "\n",
    "def calc_monthly_payment(p0, rate, years):\n",
    "    return calc_over_pay(p0, rate, years)/(years*12)\n",
    "#print(years)\n",
    "#print(loan)\n",
    "#print(rate)\n",
    "\n",
    "future_pay = calc_over_pay(p0, annual_rate, years)\n",
    "month_pay = calc_monthly_payment(p0, rate, years)\n",
    "\n",
    "print(future_pay)\n",
    "print(month_pay)"
   ]
  }
 ],
 "metadata": {
  "kernelspec": {
   "display_name": "Python 3",
   "language": "python",
   "name": "python3"
  },
  "language_info": {
   "codemirror_mode": {
    "name": "ipython",
    "version": 3
   },
   "file_extension": ".py",
   "mimetype": "text/x-python",
   "name": "python",
   "nbconvert_exporter": "python",
   "pygments_lexer": "ipython3",
   "version": "3.10.12"
  }
 },
 "nbformat": 4,
 "nbformat_minor": 2
}
